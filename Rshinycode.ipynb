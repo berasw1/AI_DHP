{
 "cells": [
  {
   "cell_type": "code",
   "execution_count": null,
   "id": "3f7d1f58",
   "metadata": {},
   "outputs": [],
   "source": [
    "install.packages(\"shiny\")"
   ]
  }
 ],
 "metadata": {
  "kernelspec": {
   "display_name": "R",
   "language": "R",
   "name": "ir"
  },
  "language_info": {
   "codemirror_mode": "r",
   "file_extension": ".r",
   "mimetype": "text/x-r-source",
   "name": "R",
   "pygments_lexer": "r",
   "version": "4.1.1"
  }
 },
 "nbformat": 4,
 "nbformat_minor": 5
}
