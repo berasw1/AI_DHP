{
 "cells": [
  {
   "cell_type": "code",
   "execution_count": 1,
   "id": "55c85ab7",
   "metadata": {},
   "outputs": [
    {
     "name": "stderr",
     "output_type": "stream",
     "text": [
      "Updating HTML index of packages in '.Library'\n",
      "\n",
      "Making 'packages.html' ...\n",
      " done\n",
      "\n"
     ]
    }
   ],
   "source": [
    "install.packages(\"shiny\")"
   ]
  },
  {
   "cell_type": "code",
   "execution_count": 2,
   "id": "4f12b025",
   "metadata": {},
   "outputs": [],
   "source": [
    "library(shiny)"
   ]
  },
  {
   "cell_type": "code",
   "execution_count": 5,
   "id": "cae29083",
   "metadata": {},
   "outputs": [],
   "source": [
    "ui <- fluidPage(theme = navbarPage(\n",
    "                  \"Shinny Page\",\n",
    "                  \n",
    "                    tabPanel(\"Main Tab\",\n",
    "                              sidebarPanel(\"This is the side\"),\n",
    "                              mainPanel(\"This is the Main\")\n",
    "                              ),\n",
    "                    \n",
    "                    \n",
    "                    tabPanel(\"Tab2\",\"In Progress\")\n",
    "                  )\n",
    "      )"
   ]
  },
  {
   "cell_type": "code",
   "execution_count": null,
   "id": "488e6368",
   "metadata": {},
   "outputs": [],
   "source": [
    "server <- function(input, output) {\n",
    "  \n",
    "  output$distPlot <- renderPlot({\n",
    "    \n",
    "    \n",
    "    if(input$SelectPlot ==\"Jitter\"){\n",
    "      a <- ggplot(iris,aes(x=Sepal.Length,y=Sepal.Width)) + geom_jitter(shape=input$Shape)\n",
    "    }\n",
    "    \n",
    "     if(input$SelectPlot ==\"Scatter\"){\n",
    "      a <- ggplot(iris,aes(x=Sepal.Length,y=Sepal.Width)) + geom_point(shape=input$Shape)\n",
    "     }\n",
    "    \n",
    "     if(input$SelectPlot ==\"Line\"){\n",
    "      a <- ggplot(iris,aes(x=Sepal.Length,y=Sepal.Width)) + geom_line(col=input$Shape)\n",
    "     }\n",
    "  \n",
    "    \n",
    "    a\n",
    "  })\n",
    "}"
   ]
  },
  {
   "cell_type": "code",
   "execution_count": null,
   "id": "14e8cd64",
   "metadata": {},
   "outputs": [],
   "source": [
    "shinyApp(ui = ui, server = server)"
   ]
  },
  {
   "cell_type": "code",
   "execution_count": null,
   "id": "6a697439",
   "metadata": {},
   "outputs": [],
   "source": []
  }
 ],
 "metadata": {
  "kernelspec": {
   "display_name": "R",
   "language": "R",
   "name": "ir"
  },
  "language_info": {
   "codemirror_mode": "r",
   "file_extension": ".r",
   "mimetype": "text/x-r-source",
   "name": "R",
   "pygments_lexer": "r",
   "version": "4.1.1"
  }
 },
 "nbformat": 4,
 "nbformat_minor": 5
}
