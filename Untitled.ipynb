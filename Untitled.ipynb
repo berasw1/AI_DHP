{
 "cells": [
  {
   "cell_type": "code",
   "execution_count": 1,
   "id": "0d822186",
   "metadata": {},
   "outputs": [
    {
     "name": "stderr",
     "output_type": "stream",
     "text": [
      "Updating HTML index of packages in '.Library'\n",
      "\n",
      "Making 'packages.html' ...\n",
      " done\n",
      "\n"
     ]
    }
   ],
   "source": [
    "install.packages(\"shiny\")"
   ]
  },
  {
   "cell_type": "code",
   "execution_count": 2,
   "id": "715cf3c2",
   "metadata": {},
   "outputs": [
    {
     "ename": "ERROR",
     "evalue": "Error in fluidPage(theme = shinytheme(\"cerulean\"), navbarPage(\"Shinny Page\", : could not find function \"fluidPage\"\n",
     "output_type": "error",
     "traceback": [
      "Error in fluidPage(theme = shinytheme(\"cerulean\"), navbarPage(\"Shinny Page\", : could not find function \"fluidPage\"\nTraceback:\n"
     ]
    }
   ],
   "source": [
    "ui <- fluidPage(theme = shinytheme(\"cerulean\"),\n",
    "                navbarPage(\n",
    "                  \"Shinny Page\",\n",
    "                  \n",
    "                    tabPanel(\"Main Tab\",\n",
    "                              sidebarPanel(\"This is the side\"),\n",
    "                              mainPanel(\"This is the Main\")\n",
    "                              ),\n",
    "                    \n",
    "                    \n",
    "                    tabPanel(\"Tab2\",\"In Progress\")\n",
    "                  )\n",
    "      )"
   ]
  },
  {
   "cell_type": "code",
   "execution_count": 3,
   "id": "a56a46e8",
   "metadata": {},
   "outputs": [],
   "source": [
    "library('shiny')"
   ]
  },
  {
   "cell_type": "code",
   "execution_count": null,
   "id": "e9331407",
   "metadata": {},
   "outputs": [],
   "source": []
  }
 ],
 "metadata": {
  "kernelspec": {
   "display_name": "R",
   "language": "R",
   "name": "ir"
  },
  "language_info": {
   "codemirror_mode": "r",
   "file_extension": ".r",
   "mimetype": "text/x-r-source",
   "name": "R",
   "pygments_lexer": "r",
   "version": "4.1.1"
  }
 },
 "nbformat": 4,
 "nbformat_minor": 5
}
